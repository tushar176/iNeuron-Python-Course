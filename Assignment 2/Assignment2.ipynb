{
 "cells": [
  {
   "cell_type": "markdown",
   "metadata": {},
   "source": [
    "## TASK 1"
   ]
  },
  {
   "cell_type": "code",
   "execution_count": 6,
   "metadata": {},
   "outputs": [
    {
     "name": "stdout",
     "output_type": "stream",
     "text": [
      "23\n"
     ]
    }
   ],
   "source": [
    "#Q1.1--\n",
    "#myreduce function which works like in-built reduce function(returns the sum of the elements of the given list)\n",
    "def myreduce(function,iterable):\n",
    "    x=iterable[0]\n",
    "    for i in iterable[1:]:\n",
    "        x=function(x,i)\n",
    "    return x\n",
    "def add(a,b):\n",
    "    return a+b\n",
    "\n",
    "result=myreduce(add,[1,2,3,4,6,7])\n",
    "print(result)"
   ]
  },
  {
   "cell_type": "code",
   "execution_count": 2,
   "metadata": {},
   "outputs": [
    {
     "name": "stdout",
     "output_type": "stream",
     "text": [
      "[2, 4, 6, 8]\n"
     ]
    }
   ],
   "source": [
    "#Q1.2--\n",
    "#my filter function\n",
    "\n",
    "def myfilter(function,iterable):\n",
    "    result=[]\n",
    "    for i in iterable:\n",
    "        if  function(i):\n",
    "            result.append(i)\n",
    "    return result\n",
    "def is_even(x):\n",
    "    return x%2==0\n",
    "\n",
    "lst=[2,3,4,5,6,7,8,9]\n",
    "l=myfilter(is_even,lst)\n",
    "print(l)"
   ]
  },
  {
   "cell_type": "code",
   "execution_count": 3,
   "metadata": {},
   "outputs": [
    {
     "name": "stdout",
     "output_type": "stream",
     "text": [
      "['A', 'C', 'A', 'D', 'G', 'I', 'L', 'D']\n",
      "['x', 'xx', 'xxx', 'xxxx', 'y', 'yy', 'yyy', 'yyyy', 'z', 'zz', 'zzz', 'zzzz']\n",
      "['x', 'y', 'z', 'xx', 'yy', 'zz', 'xxx', 'yyy', 'zzz', 'xxxx', 'yyyy', 'zzzz']\n",
      "[[2], [3], [4], [3], [4], [5], [4], [5], [6]]\n",
      "[[2, 3, 4, 5], [3, 4, 5, 6], [4, 5, 6, 7], [5, 6, 7, 8]]\n",
      "[(1, 1), (2, 1), (3, 1), (1, 2), (2, 2), (3, 2), (1, 3), (2, 3), (3, 3)]\n"
     ]
    }
   ],
   "source": [
    "#Q2--\n",
    "\n",
    "#['A','C','A','D','G','I','L','D']\n",
    "t = \"ACADGILD\"\n",
    "l = [i for i in t]\n",
    "print(l)\n",
    "\n",
    "#['x', 'xx', 'xxx', 'xxxx', 'y', 'yy', 'yyy', 'yyyy', 'z', 'zz', 'zzz', 'zzzz']\n",
    "lst=['x','y','z']\n",
    "print([lst[i]*j for i in range(len(lst)) for j in range(1,len(lst)+2)])\n",
    "\n",
    "#['x', 'y', 'z', 'xx', 'yy', 'zz', 'xxx', 'yyy', 'zzz', 'xxxx', 'yyyy', 'zzzz']\n",
    "print([lst[j] * i for i in range(1,5) for j in range(len(lst))])\n",
    "\n",
    "#[[2], [3], [4], [3], [4], [5], [4], [5], [6]]\n",
    "lst =[2,3,4]\n",
    "print([[i+num] for i in lst for num in range(0,3)])\n",
    "\n",
    "\n",
    "#[[2, 3, 4, 5], [3, 4, 5, 6], [4, 5, 6, 7], [5, 6, 7, 8]]\n",
    "lst =[2,3,4,5]\n",
    "print([[i+num for i in lst]for num in range(0,4)])\n",
    "\n",
    "#[(1, 1), (2, 1), (3, 1), (1, 2), (2, 2), (3, 2), (1, 3), (2, 3), (3, 3)]\n",
    "lst=[1,2,3]\n",
    "print(([(j,i) for i in lst for j in lst]))"
   ]
  },
  {
   "cell_type": "code",
   "execution_count": 7,
   "metadata": {},
   "outputs": [
    {
     "name": "stdout",
     "output_type": "stream",
     "text": [
      "enter list of words:hello jii this is tushar\n",
      "Longest word is :  tushar\n"
     ]
    }
   ],
   "source": [
    "#Q3\n",
    "\n",
    "def longestword():\n",
    "    li=input(\"enter list of words:\")\n",
    "    words=li.split()\n",
    "    largestWord=\"\"\n",
    "    leng=0\n",
    "    #print(words)\n",
    "    for word in words:\n",
    "        if leng<len(word):\n",
    "            largestWord=word\n",
    "            leng=len(word)\n",
    "    print(\"Longest word is : \",largestWord)        \n",
    "longestword()           "
   ]
  },
  {
   "cell_type": "markdown",
   "metadata": {},
   "source": [
    "## TASK 2"
   ]
  },
  {
   "cell_type": "code",
   "execution_count": 2,
   "metadata": {},
   "outputs": [
    {
     "name": "stdout",
     "output_type": "stream",
     "text": [
      "Enter the first side: 7\n",
      "Enter the second side: 8\n",
      "Enter the third side: 9\n",
      "Area of Triangle is : 26.832815729997478\n"
     ]
    }
   ],
   "source": [
    "#Q1.1--\n",
    "#to find the area of a triangle with class concepts...\n",
    "import math\n",
    "\n",
    "class Triangle():\n",
    "    def __init__(self):\n",
    "        self.a = float(input(\"Enter the first side: \"))\n",
    "        self.b = float(input(\"Enter the second side: \"))\n",
    "        self.c = float(input(\"Enter the third side: \"))\n",
    "\n",
    "#inheriting class triangle        \n",
    "class Area(Triangle):\n",
    "    def findArea(self):\n",
    "        s = (self.a + self.b + self.c)/2\n",
    "        area = math.sqrt(s*(s-self.a)*(s-self.b)*(s-self.c))\n",
    "        return area\n",
    "    \n",
    "if __name__==\"__main__\":\n",
    "    #object creation\n",
    "    a= Area()\n",
    "    print(\"Area of Triangle is :\",a.findArea())"
   ]
  },
  {
   "cell_type": "code",
   "execution_count": 6,
   "metadata": {},
   "outputs": [
    {
     "name": "stdout",
     "output_type": "stream",
     "text": [
      "Enter the list of words separated by comma: python is a good programming language\n",
      "Minimum length of words to keep: 5\n",
      "Words longer than 5 are --- python , programming , language \n"
     ]
    }
   ],
   "source": [
    "#Q1.2--\n",
    "#filter_long_words() that takes a list of words and an integer n and returns the list of words that are longer than n.\n",
    "def filter_long_words(wordlist,n):\n",
    "    return filter(lambda word:len(word)>n, wordlist)\n",
    "\n",
    "def main():\n",
    "    words = input(\"Enter the list of words separated by comma: \").split(' ')\n",
    "    length = int(input(\"Minimum length of words to keep: \"))\n",
    "    print(\"Words longer than {} are --- {} \".format(length,' , '.join(filter_long_words(words, length))))\n",
    "\n",
    "if __name__ == \"__main__\":\n",
    "    main()\n"
   ]
  },
  {
   "cell_type": "code",
   "execution_count": 9,
   "metadata": {},
   "outputs": [
    {
     "name": "stdout",
     "output_type": "stream",
     "text": [
      "ab,cde,erty\n",
      "[2, 3, 4]\n"
     ]
    }
   ],
   "source": [
    "#Q.2--\n",
    "#function that returns the lengths of the corresponding words.\n",
    "def map_to_lengths_lists(words):\n",
    "    return [len(word) for word in words]\n",
    "\n",
    "if __name__ == \"__main__\":\n",
    "    words=input().strip().split(',')\n",
    "    #words = ['ab','cde','erty']\n",
    "    print(map_to_lengths_lists(words))"
   ]
  },
  {
   "cell_type": "code",
   "execution_count": 8,
   "metadata": {},
   "outputs": [
    {
     "name": "stdout",
     "output_type": "stream",
     "text": [
      "Enter the character: a\n",
      "True\n"
     ]
    }
   ],
   "source": [
    "#2.2--\n",
    "# function which takes a character (i.e. a string of length 1) and returns True if it is a vowel, False otherwise.\n",
    "def is_vowel(char):\n",
    "    #store values in tuple as the vowels are fixed\n",
    "    vowels = ('a', 'e', 'i', 'o', 'u')\n",
    "    if char not in vowels:\n",
    "        return False\n",
    "    return True\n",
    "\n",
    "if __name__ == \"__main__\":\n",
    "    ch = str(input(\"Enter the character: \"))\n",
    "    print(is_vowel(ch))"
   ]
  },
  {
   "cell_type": "code",
   "execution_count": null,
   "metadata": {},
   "outputs": [],
   "source": []
  }
 ],
 "metadata": {
  "kernelspec": {
   "display_name": "Python 3",
   "language": "python",
   "name": "python3"
  },
  "language_info": {
   "codemirror_mode": {
    "name": "ipython",
    "version": 3
   },
   "file_extension": ".py",
   "mimetype": "text/x-python",
   "name": "python",
   "nbconvert_exporter": "python",
   "pygments_lexer": "ipython3",
   "version": "3.7.1"
  }
 },
 "nbformat": 4,
 "nbformat_minor": 4
}
